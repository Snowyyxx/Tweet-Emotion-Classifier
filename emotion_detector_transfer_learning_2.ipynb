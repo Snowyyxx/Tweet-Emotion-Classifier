{
 "cells": [
  {
   "cell_type": "code",
   "execution_count": 1,
   "id": "30409d92",
   "metadata": {},
   "outputs": [
    {
     "name": "stderr",
     "output_type": "stream",
     "text": [
      "C:\\Python311\\Lib\\site-packages\\tqdm\\auto.py:21: TqdmWarning: IProgress not found. Please update jupyter and ipywidgets. See https://ipywidgets.readthedocs.io/en/stable/user_install.html\n",
      "  from .autonotebook import tqdm as notebook_tqdm\n"
     ]
    }
   ],
   "source": [
    "from transformers import AutoTokenizer, AutoModel\n",
    "import torch\n",
    "# For example, using 'sentence-transformers/all-MiniLM-L6-v2' for embeddings\n",
    "model_name = 'sentence-transformers/all-MiniLM-L6-v2'\n",
    "tokenizer = AutoTokenizer.from_pretrained(model_name)\n",
    "model = AutoModel.from_pretrained(model_name)"
   ]
  },
  {
   "cell_type": "code",
   "execution_count": 2,
   "id": "304d04e4",
   "metadata": {},
   "outputs": [],
   "source": [
    "import pandas as pd"
   ]
  },
  {
   "cell_type": "code",
   "execution_count": 45,
   "id": "fdbcc1e1",
   "metadata": {},
   "outputs": [],
   "source": [
    "test_db = pd.read_csv('archive/test.csv')\n",
    "train_db = pd.read_csv('archive/training.csv')\n",
    "validation_db = pd.read_csv('archive/validation.csv')\n",
    "\n",
    "label_mapping = {\n",
    "    'sadness':0,\n",
    "    'joy':1,\n",
    "    'love':2,\n",
    "    'anger':3,\n",
    "    'fear':4,\n",
    "    'shocked':5\n",
    "}"
   ]
  },
  {
   "cell_type": "code",
   "execution_count": 4,
   "id": "76efe32e",
   "metadata": {},
   "outputs": [],
   "source": [
    "def tokenize_tweets(tweets):\n",
    "    return tokenizer(tweets, padding=True, truncation=True, return_tensors=\"pt\")\n",
    "\n",
    "def get_embeddings(tokenized_tweets):\n",
    "    with torch.no_grad():\n",
    "        outputs = model(**tokenized_tweets)\n",
    "        embeddings = outputs.last_hidden_state.mean(dim=1)\n",
    "    return embeddings"
   ]
  },
  {
   "cell_type": "code",
   "execution_count": 5,
   "id": "441f5a6b",
   "metadata": {},
   "outputs": [],
   "source": [
    "train_text_list = list(train_db['text'])\n",
    "test_text_list = list(test_db['text'])\n",
    "y_train = train_db['label']\n",
    "y_test = test_db['label']"
   ]
  },
  {
   "cell_type": "code",
   "execution_count": 6,
   "id": "90f791a3",
   "metadata": {},
   "outputs": [],
   "source": [
    "tokens = tokenize_tweets(train_text_list)"
   ]
  },
  {
   "cell_type": "code",
   "execution_count": 7,
   "id": "db5aba9e",
   "metadata": {},
   "outputs": [
    {
     "data": {
      "text/plain": [
       "{'input_ids': tensor([[  101,  1045,  2134,  ...,     0,     0,     0],\n",
       "        [  101,  1045,  2064,  ...,     0,     0,     0],\n",
       "        [  101, 10047,  9775,  ...,     0,     0,     0],\n",
       "        ...,\n",
       "        [  101,  1045,  2514,  ...,     0,     0,     0],\n",
       "        [  101,  1045,  2514,  ...,     0,     0,     0],\n",
       "        [  101,  1045,  2113,  ...,     0,     0,     0]]), 'token_type_ids': tensor([[0, 0, 0,  ..., 0, 0, 0],\n",
       "        [0, 0, 0,  ..., 0, 0, 0],\n",
       "        [0, 0, 0,  ..., 0, 0, 0],\n",
       "        ...,\n",
       "        [0, 0, 0,  ..., 0, 0, 0],\n",
       "        [0, 0, 0,  ..., 0, 0, 0],\n",
       "        [0, 0, 0,  ..., 0, 0, 0]]), 'attention_mask': tensor([[1, 1, 1,  ..., 0, 0, 0],\n",
       "        [1, 1, 1,  ..., 0, 0, 0],\n",
       "        [1, 1, 1,  ..., 0, 0, 0],\n",
       "        ...,\n",
       "        [1, 1, 1,  ..., 0, 0, 0],\n",
       "        [1, 1, 1,  ..., 0, 0, 0],\n",
       "        [1, 1, 1,  ..., 0, 0, 0]])}"
      ]
     },
     "execution_count": 7,
     "metadata": {},
     "output_type": "execute_result"
    }
   ],
   "source": [
    "tokens"
   ]
  },
  {
   "cell_type": "code",
   "execution_count": 8,
   "id": "e7b3172e",
   "metadata": {},
   "outputs": [
    {
     "data": {
      "text/plain": [
       "{'input_ids': tensor([[  101,  2026,  2171,  2003, 10958, 21886, 17136,   102],\n",
       "        [  101,  1998,  2026,  2287,  2003,  2871,   102,     0]]), 'token_type_ids': tensor([[0, 0, 0, 0, 0, 0, 0, 0],\n",
       "        [0, 0, 0, 0, 0, 0, 0, 0]]), 'attention_mask': tensor([[1, 1, 1, 1, 1, 1, 1, 1],\n",
       "        [1, 1, 1, 1, 1, 1, 1, 0]])}"
      ]
     },
     "execution_count": 8,
     "metadata": {},
     "output_type": "execute_result"
    }
   ],
   "source": [
    "#example \n",
    "sentence =['my name is Rahul Jain','and my age is 40']\n",
    "example_token = tokenize_tweets(sentence)\n",
    "embedding = get_embeddings(example_token)\n",
    "example_token"
   ]
  },
  {
   "cell_type": "code",
   "execution_count": 9,
   "id": "fda825d3",
   "metadata": {},
   "outputs": [],
   "source": [
    "#embeddings = get_embeddings(tokens)\n",
    "embeddings = torch.load('embeddings.pt')"
   ]
  },
  {
   "cell_type": "code",
   "execution_count": 10,
   "id": "8a1d3fac",
   "metadata": {},
   "outputs": [],
   "source": [
    "torch.save(embeddings,'embeddings.pt')"
   ]
  },
  {
   "cell_type": "code",
   "execution_count": 11,
   "id": "9698e2b1",
   "metadata": {},
   "outputs": [
    {
     "data": {
      "text/plain": [
       "torch.Tensor"
      ]
     },
     "execution_count": 11,
     "metadata": {},
     "output_type": "execute_result"
    }
   ],
   "source": [
    "type(embeddings)"
   ]
  },
  {
   "cell_type": "code",
   "execution_count": 12,
   "id": "da0415b7",
   "metadata": {},
   "outputs": [
    {
     "name": "stdout",
     "output_type": "stream",
     "text": [
      "torch.Size([16000, 384])\n"
     ]
    }
   ],
   "source": [
    "print(embeddings.shape)\n",
    "from torch import nn"
   ]
  },
  {
   "cell_type": "code",
   "execution_count": 13,
   "id": "27505785",
   "metadata": {},
   "outputs": [],
   "source": [
    "class EmotionClassifier(nn.Module):\n",
    "    def __init__(self, input_dim, num_labels):\n",
    "        super(EmotionClassifier, self).__init__()\n",
    "        self.fc1 = nn.Linear(input_dim, 512)\n",
    "        self.fc2 = nn.Linear(512, 256)\n",
    "        self.fc3 = nn.Linear(256, 128)\n",
    "        self.fc4 = nn.Linear(128, 64)\n",
    "        self.fc5 = nn.Linear(64, num_labels)\n",
    "        self.relu = nn.ReLU()\n",
    "    \n",
    "    def forward(self, x):\n",
    "        x = self.relu(self.fc1(x))\n",
    "        x = self.relu(self.fc2(x))\n",
    "        x = self.relu(self.fc3(x))\n",
    "        x = self.relu(self.fc4(x))\n",
    "        x = self.fc5(x)  # No ReLU after the last layer, assuming it's a classification task\n",
    "        return x"
   ]
  },
  {
   "cell_type": "code",
   "execution_count": 14,
   "id": "18001522",
   "metadata": {},
   "outputs": [],
   "source": [
    "def calculate_accuracy(logits, labels):\n",
    "    # No need for softmax since we're interested in the index of the maximum logit\n",
    "    # which corresponds to the predicted class\n",
    "    _, predicted_classes = torch.max(logits, 1)\n",
    "    correct_predictions = torch.eq(predicted_classes, labels).float()  # Convert to float to perform average\n",
    "    accuracy = correct_predictions.sum() / len(labels)\n",
    "    return accuracy.item()  # Returns the accuracy as a Python float\n"
   ]
  },
  {
   "cell_type": "code",
   "execution_count": 15,
   "id": "a51f0553",
   "metadata": {},
   "outputs": [],
   "source": [
    "num_labels = len(label_mapping)"
   ]
  },
  {
   "cell_type": "code",
   "execution_count": 16,
   "id": "a42f21b4",
   "metadata": {},
   "outputs": [
    {
     "data": {
      "text/plain": [
       "5"
      ]
     },
     "execution_count": 16,
     "metadata": {},
     "output_type": "execute_result"
    }
   ],
   "source": [
    "y_train.max()"
   ]
  },
  {
   "cell_type": "code",
   "execution_count": 17,
   "id": "bffa01cc",
   "metadata": {},
   "outputs": [
    {
     "name": "stdout",
     "output_type": "stream",
     "text": [
      "Epoch 1, Loss: 1.167739987373352, Accuracy: 0.54775\n",
      "Epoch 2, Loss: 0.7808763980865479, Accuracy: 0.6363125\n",
      "Epoch 3, Loss: 0.3064796030521393, Accuracy: 0.675875\n",
      "Epoch 4, Loss: 0.4607236683368683, Accuracy: 0.7176875\n",
      "Epoch 5, Loss: 0.46791404485702515, Accuracy: 0.752375\n",
      "Epoch 6, Loss: 0.39606937766075134, Accuracy: 0.7968125\n",
      "Epoch 7, Loss: 0.13932672142982483, Accuracy: 0.8241875\n",
      "Epoch 8, Loss: 0.1260775625705719, Accuracy: 0.8530625\n",
      "Epoch 9, Loss: 0.442171186208725, Accuracy: 0.8786875\n",
      "Epoch 10, Loss: 0.1712743192911148, Accuracy: 0.8938125\n",
      "Epoch 11, Loss: 0.3484903573989868, Accuracy: 0.904625\n",
      "Epoch 12, Loss: 0.15029533207416534, Accuracy: 0.9221875\n",
      "Epoch 13, Loss: 0.3567889630794525, Accuracy: 0.9303125\n",
      "Epoch 14, Loss: 0.16044016182422638, Accuracy: 0.939\n",
      "Epoch 15, Loss: 0.3745824098587036, Accuracy: 0.945625\n",
      "Epoch 16, Loss: 0.09722066670656204, Accuracy: 0.9525\n",
      "Epoch 17, Loss: 0.017740000039339066, Accuracy: 0.9553125\n",
      "Epoch 18, Loss: 0.1835901290178299, Accuracy: 0.95525\n",
      "Epoch 19, Loss: 0.17540571093559265, Accuracy: 0.9616875\n",
      "Epoch 20, Loss: 0.15943723917007446, Accuracy: 0.9643125\n"
     ]
    }
   ],
   "source": [
    "from torch.utils.data import DataLoader, TensorDataset\n",
    "import torch.optim as optim\n",
    "\n",
    "# Convert to PyTorch datasets\n",
    "train_dataset = TensorDataset(embeddings, torch.tensor(y_train, dtype=torch.long))\n",
    "\n",
    "train_loader = DataLoader(train_dataset, batch_size=16, shuffle=True)\n",
    "\n",
    "# Initialize the classifier\n",
    "input_dim = embeddings.size(1)  # The size of the embeddings\n",
    "classifier = EmotionClassifier(input_dim, num_labels)\n",
    "# Define loss function and optimizer\n",
    "loss_fn = nn.CrossEntropyLoss()\n",
    "optimizer = optim.Adam(classifier.parameters(), lr=0.001)\n",
    "\n",
    "# Training loop\n",
    "for epoch in range(20):  # Number of epochs\n",
    "    total_accuracy=0\n",
    "    for inputs, labels in train_loader:\n",
    "        optimizer.zero_grad()\n",
    "        y_logits= classifier(inputs)\n",
    "        accuracy = calculate_accuracy(y_logits, labels)\n",
    "        total_accuracy += accuracy\n",
    "        loss = loss_fn(y_logits, labels)\n",
    "        loss.backward()\n",
    "        optimizer.step()\n",
    "    average_accuracy = total_accuracy / len(train_loader)\n",
    "    print(f'Epoch {epoch+1}, Loss: {loss.item()}, Accuracy: {average_accuracy}')\n"
   ]
  },
  {
   "cell_type": "code",
   "execution_count": 84,
   "id": "292eab42",
   "metadata": {},
   "outputs": [],
   "source": [
    "def predict(tweet):\n",
    "    token = tokenize_tweets(tweet)\n",
    "    embeddings = get_embeddings(token)\n",
    "    logits = classifier(embeddings)\n",
    "    _, predicted_class = torch.max(logits, 1)\n",
    "    for key,val in label_mapping.items():\n",
    "        if val==predicted_class.item():\n",
    "            print(\"the predicted class is: \",key)"
   ]
  },
  {
   "cell_type": "code",
   "execution_count": 87,
   "id": "5d0cb2fb",
   "metadata": {},
   "outputs": [
    {
     "name": "stdout",
     "output_type": "stream",
     "text": [
      "the predicted class is:  sadness\n"
     ]
    }
   ],
   "source": [
    "predict(['i wnat to die'])"
   ]
  },
  {
   "cell_type": "code",
   "execution_count": null,
   "id": "29d1b6ec",
   "metadata": {},
   "outputs": [],
   "source": []
  },
  {
   "cell_type": "code",
   "execution_count": null,
   "id": "a956746b",
   "metadata": {},
   "outputs": [],
   "source": []
  }
 ],
 "metadata": {
  "kernelspec": {
   "display_name": "deep_learning",
   "language": "python",
   "name": "deep_learning"
  },
  "language_info": {
   "codemirror_mode": {
    "name": "ipython",
    "version": 3
   },
   "file_extension": ".py",
   "mimetype": "text/x-python",
   "name": "python",
   "nbconvert_exporter": "python",
   "pygments_lexer": "ipython3",
   "version": "3.11.4"
  }
 },
 "nbformat": 4,
 "nbformat_minor": 5
}
